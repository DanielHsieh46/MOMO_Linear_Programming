{
 "cells": [
  {
   "cell_type": "code",
   "execution_count": 2,
   "id": "d0addd67",
   "metadata": {},
   "outputs": [
    {
     "name": "stdout",
     "output_type": "stream",
     "text": [
      "           配送單號  作業內容                作業時間 作業人員      營業所  路線代碼 當配/一般     長  \\\n",
      "0  300308797073   已取貨 2024-12-14 08:39:30  人派1      桃衛1  NS16    一般  37.0   \n",
      "1  300308797073   分貨中 2024-12-14 15:32:54  林宜蒨  分轉站-NS2  NS16    一般  37.0   \n",
      "4  300308797073   已取貨 2024-12-15 09:00:26  張凱媛     北衛16  NS16    一般  37.0   \n",
      "5  300308797073  暫存站內 2024-12-15 14:51:57  張凱媛     北衛16  NS16    一般  37.0   \n",
      "6  300308797073   運送中 2024-12-15 15:50:41  徐翊桓     北衛16  NS16    一般  37.0   \n",
      "\n",
      "      寬     高   箱號   箱型      車種   重量  三邊加總 (CM)  \n",
      "0  28.0  22.0  NaN  1.0  1.9T低溫  1.0       87.0  \n",
      "1  28.0  22.0  NaN  1.0  1.9T低溫  1.0       87.0  \n",
      "4  28.0  22.0  NaN  1.0   電動車常溫  1.0       87.0  \n",
      "5  28.0  22.0  NaN  1.0   電動車常溫  1.0       87.0  \n",
      "6  28.0  22.0  NaN  1.0  1.9T常溫  1.0       87.0  \n",
      "     車種  月折舊費用 (Monthly Depreciation)  油資/電費 ($/配送件數)  駕駛人員月薪  人員獎金($/配送件數) \n",
      "0  1.9T                   9500.000000            2.97   37000           12.6\n",
      "1    機車                   1475.000000            0.60   31000           12.2\n",
      "2  電動機車                   8274.916667            0.37   31000           12.2\n"
     ]
    }
   ],
   "source": [
    "import pandas as pd\n",
    "\n",
    "file_path = r\"C:\\Users\\User\\OneDrive\\桌面\\My Course\\碩一下\\給台大資料\\Data1-unfiltered.xlsx\"  \n",
    "\n",
    "\n",
    "data1_df = pd.read_excel(file_path)  \n",
    "data1_df = data1_df[data1_df[\"車種\"].str.contains(\"1.9T|電動車\", na=False) | (data1_df[\"車種\"] == \"機車\")]\n",
    "data1_df[\"三邊加總 (CM)\"] = data1_df[\"長\"] + data1_df[\"寬\"] + data1_df[\"高\"]\n",
    "\n",
    "file_path2 = r\"C:\\Users\\User\\OneDrive\\桌面\\My Course\\碩一下\\給台大資料\\Data2.xlsx\" \n",
    "\n",
    "data2_df = pd.read_excel(file_path2)\n",
    "data2_df[\"購車金額\"] = data2_df[\"購車金額\"] / 5 / 12\n",
    "data2_df.rename(columns={\"購車金額\": \"月折舊費用 (Monthly Depreciation)\"}, inplace=True)\n",
    "\n",
    "print(data1_df.head())\n",
    "print(data2_df.head())\n"
   ]
  },
  {
   "cell_type": "code",
   "execution_count": 11,
   "id": "e2511085",
   "metadata": {},
   "outputs": [
    {
     "name": "stdout",
     "output_type": "stream",
     "text": [
      "      車種  trip_count  estimated_trips_per_month\n",
      "0     機車        1289                      515.6\n",
      "1   1.9T         620                      248.0\n",
      "2  電動車常溫         316                      126.4\n"
     ]
    }
   ],
   "source": [
    "# Step 1: Convert 作業時間 to datetime\n",
    "data1_df[\"作業時間\"] = pd.to_datetime(data1_df[\"作業時間\"], errors=\"coerce\")\n",
    "\n",
    "# Step 2: Drop rows with missing key fields\n",
    "data1_clean = data1_df.dropna(subset=[\"作業時間\", \"車種\", \"作業人員\"])\n",
    "\n",
    "# Step 3: Normalize 1.9T車種\n",
    "data1_clean[\"車種_normalized\"] = data1_clean[\"車種\"].replace({\n",
    "    \"1.9T常溫\": \"1.9T\",\n",
    "    \"1.9T低溫\": \"1.9T\"\n",
    "})\n",
    "\n",
    "# Step 4: Extract date only\n",
    "data1_clean[\"日期\"] = data1_clean[\"作業時間\"].dt.date\n",
    "\n",
    "# Step 5: Define unique trips (作業人員 + 車種 + 日期)\n",
    "unique_trips = data1_clean.drop_duplicates(subset=[\"作業人員\", \"車種_normalized\", \"日期\"])\n",
    "\n",
    "# Step 6: Count trips per vehicle type (normalized)\n",
    "trip_counts = unique_trips[\"車種_normalized\"].value_counts().reset_index()\n",
    "trip_counts.columns = [\"車種\", \"trip_count\"]\n",
    "\n",
    "# Step 7: Estimate trips per month\n",
    "trip_counts[\"estimated_trips_per_month\"] = trip_counts[\"trip_count\"] / 2.5\n",
    "\n",
    "# Done\n",
    "print(trip_counts)\n"
   ]
  },
  {
   "cell_type": "code",
   "execution_count": 14,
   "id": "8d6c5fc9",
   "metadata": {},
   "outputs": [
    {
     "name": "stdout",
     "output_type": "stream",
     "text": [
      "      車種  avg_deliveries_per_trip\n",
      "0   1.9T                81.961290\n",
      "1     機車                58.903026\n",
      "2  電動車常溫               120.797468\n"
     ]
    }
   ],
   "source": [
    "# Step 1: Normalize 1.9T types into a single category\n",
    "data1_clean[\"車種_normalized\"] = data1_clean[\"車種\"].replace({\n",
    "    \"1.9T常溫\": \"1.9T\",\n",
    "    \"1.9T低溫\": \"1.9T\"\n",
    "})\n",
    "\n",
    "# Step 2: Create trip_id based on normalized 車種\n",
    "data1_clean[\"trip_id\"] = (\n",
    "    data1_clean[\"作業人員\"].astype(str) + \"_\" +\n",
    "    data1_clean[\"車種_normalized\"].astype(str) + \"_\" +\n",
    "    data1_clean[\"日期\"].astype(str)\n",
    ")\n",
    "\n",
    "# Step 3: Count unique delivery orders per trip\n",
    "deliveries_per_trip = data1_clean.drop_duplicates(subset=[\"trip_id\", \"配送單號\"])\n",
    "deliveries_per_trip = deliveries_per_trip.groupby(\"trip_id\").size().reset_index(name=\"delivery_count\")\n",
    "\n",
    "# Step 4: Map 車種 back to each trip\n",
    "trip_vehicle_map = data1_clean.drop_duplicates(subset=[\"trip_id\"])[[\"trip_id\", \"車種_normalized\"]]\n",
    "deliveries_per_trip = deliveries_per_trip.merge(trip_vehicle_map, on=\"trip_id\")\n",
    "\n",
    "# Step 5: Average number of deliveries per trip by 車種\n",
    "avg_deliveries_per_trip = deliveries_per_trip.groupby(\"車種_normalized\")[\"delivery_count\"].mean().reset_index()\n",
    "avg_deliveries_per_trip.columns = [\"車種\", \"avg_deliveries_per_trip\"]\n",
    "\n",
    "print(avg_deliveries_per_trip)\n"
   ]
  },
  {
   "cell_type": "code",
   "execution_count": 2,
   "id": "33a775b1",
   "metadata": {},
   "outputs": [
    {
     "name": "stdout",
     "output_type": "stream",
     "text": [
      "Total deliveries: 138807\n",
      "機車 eligible deliveries (CM < 90): 102210\n",
      "電動機車 eligible deliveries (CM < 120): 122918\n",
      "1.9T only deliveries (CM ≥ 120): 15889\n"
     ]
    }
   ],
   "source": [
    "# Step 1: Drop duplicates by 配送單號 + 車種\n",
    "unique_deliveries = data1_df.drop_duplicates(subset=[\"配送單號\", \"車種\"])\n",
    "\n",
    "# Step 2: Apply volume constraints on deduplicated data\n",
    "mask_motorcycle = unique_deliveries[\"三邊加總 (CM)\"] < 90\n",
    "mask_e_motorcycle = unique_deliveries[\"三邊加總 (CM)\"] < 120\n",
    "\n",
    "# Step 3: Count total eligible deliveries\n",
    "total_deliveries = len(unique_deliveries)\n",
    "motorcycle_eligible = unique_deliveries[mask_motorcycle].shape[0]\n",
    "e_motorcycle_eligible = unique_deliveries[mask_e_motorcycle].shape[0]\n",
    "truck_only = total_deliveries - e_motorcycle_eligible\n",
    "\n",
    "# Step 4: Print results\n",
    "print(f\"Total deliveries: {total_deliveries}\")\n",
    "print(f\"機車 eligible deliveries (CM < 90): {motorcycle_eligible}\")\n",
    "print(f\"電動機車 eligible deliveries (CM < 120): {e_motorcycle_eligible}\")\n",
    "print(f\"1.9T only deliveries (CM ≥ 120): {truck_only}\")"
   ]
  },
  {
   "cell_type": "code",
   "execution_count": 3,
   "id": "d20d577a",
   "metadata": {},
   "outputs": [
    {
     "name": "stdout",
     "output_type": "stream",
     "text": [
      "      車種  total_deliveries  estimated_deliveries_per_month\n",
      "0   1.9T             46845                         18738.0\n",
      "1     機車             58460                         23384.0\n",
      "2  電動車常溫             33502                         13400.8\n"
     ]
    }
   ],
   "source": [
    "# Step 1: Drop duplicates by 配送單號 + 車種\n",
    "unique_deliveries = data1_df.drop_duplicates(subset=[\"配送單號\", \"車種\"])\n",
    "\n",
    "# Step 2: Count how many deliveries each 車種 handled\n",
    "delivery_counts = unique_deliveries[\"車種\"].value_counts().reset_index()\n",
    "delivery_counts.columns = [\"車種\", \"total_deliveries\"]\n",
    "\n",
    "# Step 3: Estimate average deliveries per month per vehicle type\n",
    "delivery_counts[\"estimated_deliveries_per_month\"] = delivery_counts[\"total_deliveries\"] / 2.5\n",
    "\n",
    "# Step 1: Replace 車種 labels to unify 1.9T types\n",
    "delivery_counts[\"車種\"] = delivery_counts[\"車種\"].replace({\"1.9T低溫\": \"1.9T\", \"1.9T常溫\": \"1.9T\"})\n",
    "\n",
    "# Step 2: Group by the unified 車種 and sum the values\n",
    "combined = delivery_counts.groupby(\"車種\", as_index=False).sum()\n",
    "\n",
    "# Step 3: Print the combined result\n",
    "print(combined)\n"
   ]
  },
  {
   "cell_type": "code",
   "execution_count": 22,
   "id": "44e44d41",
   "metadata": {},
   "outputs": [],
   "source": [
    "import pulp\n",
    "\n",
    "model = pulp.LpProblem(\"Vehicle_Import_Optimization\", pulp.LpMinimize)\n",
    "\n",
    "# Number of vehicles to import (monthly cost base)\n",
    "y_1_9t = pulp.LpVariable(\"y_1.9T\", lowBound=0, cat=\"Integer\")\n",
    "y_emoto = pulp.LpVariable(\"y_電動機車\", lowBound=0, cat=\"Integer\")\n",
    "y_moto = pulp.LpVariable(\"y_機車\", lowBound=0, cat=\"Integer\")\n",
    "\n",
    "# Number of deliveries assigned to each vehicle type (per month)\n",
    "x_1_9t = pulp.LpVariable(\"x_1.9T_deliveries\", lowBound=0, cat=\"Integer\")\n",
    "x_emoto = pulp.LpVariable(\"x_電動機車_deliveries\", lowBound=0, cat=\"Integer\")\n",
    "x_moto = pulp.LpVariable(\"x_機車_deliveries\", lowBound=0, cat=\"Integer\")\n",
    "\n",
    "### 限制式 ###\n",
    "model += (x_1_9t + x_emoto + x_moto >= 138807 / 2.5), \"Total_Monthly_Delivery_Demand\"\n",
    "model += (x_1_9t >= 15889 / 2.5), \"Monthly_Large_Item_Minimum\"\n",
    "model += x_1_9t <= y_1_9t * (248 * 81.96), \"1.9T_Capacity\"\n",
    "model += x_emoto <= y_emoto * (126.4 * 120.80), \"E_Moto_Capacity\"\n",
    "model += x_moto <= y_moto * (515.6 * 58.90), \"Motorcycle_Capacity\"\n",
    "\n",
    "### 目標 ###\n",
    "model += (\n",
    "    y_1_9t * (9500 + 37000) + x_1_9t * (2.97 + 12.6) +\n",
    "    y_emoto * (8274.92 + 31000) + x_emoto * (0.37 + 12.2) +\n",
    "    y_moto * (1475 + 31000) + x_moto * (0.6 + 12.2)\n",
    "), \"Total_Monthly_Cost\"\n",
    "\n"
   ]
  },
  {
   "cell_type": "code",
   "execution_count": 23,
   "id": "7d919a84",
   "metadata": {},
   "outputs": [
    {
     "name": "stdout",
     "output_type": "stream",
     "text": [
      "Status: Optimal\n",
      "\n",
      "Optimal number of vehicles to import:\n",
      "1.9T: 1.0\n",
      "電動機車: 0.0\n",
      "機車: 2.0\n",
      "\n",
      "Deliveries assigned per month:\n",
      "1.9T: 6356.0\n",
      "電動機車: 0.0\n",
      "機車: 49167.0\n",
      "\n",
      "Total Estimated Monthly Cost: 839750.52\n"
     ]
    }
   ],
   "source": [
    "# Solve the model\n",
    "model.solve()\n",
    "\n",
    "# Show status\n",
    "print(\"Status:\", pulp.LpStatus[model.status])\n",
    "\n",
    "# Show how many vehicles to import\n",
    "print(\"\\nOptimal number of vehicles to import:\")\n",
    "print(\"1.9T:\", y_1_9t.varValue)\n",
    "print(\"電動機車:\", y_emoto.varValue)\n",
    "print(\"機車:\", y_moto.varValue)\n",
    "\n",
    "# Show how many deliveries to assign\n",
    "print(\"\\nDeliveries assigned per month:\")\n",
    "print(\"1.9T:\", x_1_9t.varValue)\n",
    "print(\"電動機車:\", x_emoto.varValue)\n",
    "print(\"機車:\", x_moto.varValue)\n",
    "\n",
    "# Total cost\n",
    "print(\"\\nTotal Estimated Monthly Cost:\", pulp.value(model.objective))\n"
   ]
  },
  {
   "cell_type": "code",
   "execution_count": null,
   "id": "2880c580",
   "metadata": {},
   "outputs": [],
   "source": []
  }
 ],
 "metadata": {
  "kernelspec": {
   "display_name": "Python 3 (ipykernel)",
   "language": "python",
   "name": "python3"
  },
  "language_info": {
   "codemirror_mode": {
    "name": "ipython",
    "version": 3
   },
   "file_extension": ".py",
   "mimetype": "text/x-python",
   "name": "python",
   "nbconvert_exporter": "python",
   "pygments_lexer": "ipython3",
   "version": "3.9.13"
  }
 },
 "nbformat": 4,
 "nbformat_minor": 5
}
