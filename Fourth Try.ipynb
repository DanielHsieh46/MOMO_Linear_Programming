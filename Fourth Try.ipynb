{
 "cells": [
  {
   "cell_type": "code",
   "execution_count": 16,
   "id": "262ed6c0",
   "metadata": {},
   "outputs": [
    {
     "name": "stdout",
     "output_type": "stream",
     "text": [
      "            配送單號  作業內容                作業時間 作業人員      營業所        路線代碼 當配/一般  \\\n",
      "2   300004241261   運送中 2024-12-11 09:30:40  趙祺弘  NS16-欣華  NS16-01-22    當配   \n",
      "3   300004241261  完成運送 2024-12-11 20:09:03  趙祺弘  NS16-欣華  NS16-01-22    當配   \n",
      "6   300004241272   運送中 2024-12-11 09:31:26  趙祺弘  NS16-欣華  NS16-01-22    當配   \n",
      "7   300004241272  完成運送 2024-12-11 20:08:51  趙祺弘  NS16-欣華  NS16-01-22    當配   \n",
      "10  300004242436   運送中 2024-12-12 08:57:32  謝高曉  NS16-欣華  NS16-01-32    一般   \n",
      "\n",
      "       長     寬     高   箱號   箱型  車種   重量  三邊加總 (CM)  \n",
      "2   45.0  30.0  30.0  NaN  NaN  機車  NaN      105.0  \n",
      "3   45.0  30.0  30.0  NaN  NaN  機車  NaN      105.0  \n",
      "6   90.0  20.0  35.0  NaN  NaN  機車  NaN      145.0  \n",
      "7   90.0  20.0  35.0  NaN  NaN  機車  NaN      145.0  \n",
      "10  45.0  30.0  30.0  NaN  1.0  機車  1.0      105.0  \n",
      "     車種  月折舊費用 (Monthly Depreciation)  油資/電費 ($/配送件數)  駕駛人員月薪  人員獎金($/配送件數) \n",
      "0  1.9T                   9500.000000            2.97   37000           12.6\n",
      "1    機車                   1475.000000            0.60   31000           12.2\n",
      "2  電動機車                   8274.916667            0.37   31000           12.2\n"
     ]
    }
   ],
   "source": [
    "import pandas as pd\n",
    "\n",
    "file_path = r\"C:\\Users\\User\\OneDrive\\桌面\\My Course\\碩一下\\給台大資料\\Data1-unfiltered.xlsx\"  \n",
    "\n",
    "\n",
    "data1_df = pd.read_excel(file_path)  \n",
    "data1_df = data1_df[data1_df[\"車種\"].str.contains(\"1.9T|電動車\", na=False) | (data1_df[\"車種\"] == \"機車\")]\n",
    "\n",
    "invalid_staff = [\"人派\", \"人派1\", \"已取貨\"]\n",
    "data1_df = data1_df[~data1_df[\"作業人員\"].isin(invalid_staff)]\n",
    "\n",
    "data1_df[\"車種\"] = data1_df[\"車種\"].replace({\n",
    "    \"1.9T常溫\": \"1.9T\",\n",
    "    \"1.9T低溫\": \"1.9T\"\n",
    "})\n",
    "data1_df[\"三邊加總 (CM)\"] = data1_df[\"長\"] + data1_df[\"寬\"] + data1_df[\"高\"]\n",
    "\n",
    "file_path2 = r\"C:\\Users\\User\\OneDrive\\桌面\\My Course\\碩一下\\給台大資料\\Data2.xlsx\" \n",
    "\n",
    "data2_df = pd.read_excel(file_path2)\n",
    "data2_df[\"購車金額\"] = data2_df[\"購車金額\"] / 5 / 12\n",
    "data2_df.rename(columns={\"購車金額\": \"月折舊費用 (Monthly Depreciation)\"}, inplace=True)\n",
    "\n",
    "print(data1_df.head())\n",
    "print(data2_df.head())\n"
   ]
  },
  {
   "cell_type": "code",
   "execution_count": 24,
   "id": "542b69ea",
   "metadata": {},
   "outputs": [
    {
     "name": "stdout",
     "output_type": "stream",
     "text": [
      "Estimated total monthly deliveries: 54213.2\n"
     ]
    }
   ],
   "source": [
    "# Step 1: Remove rows with missing required fields\n",
    "x_df = data1_df.dropna(subset=[\"配送單號\", \"作業人員\", \"車種\"])\n",
    "\n",
    "# Step 2: Drop duplicates to count only unique delivery assignments\n",
    "x_unique = x_df.drop_duplicates(subset=[\"配送單號\", \"作業人員\", \"車種\"])\n",
    "\n",
    "# Step 3: Calculate total deliveries per month across all vehicle types\n",
    "total_deliveries = len(x_unique) / 2.5\n",
    "\n",
    "print(\"Estimated total monthly deliveries:\", total_deliveries)\n",
    "\n"
   ]
  },
  {
   "cell_type": "code",
   "execution_count": 28,
   "id": "11a4e74b",
   "metadata": {},
   "outputs": [
    {
     "name": "stdout",
     "output_type": "stream",
     "text": [
      "Total unique large-item assignments: 9659\n",
      "Estimated large-item deliveries per month: 3863.60\n"
     ]
    }
   ],
   "source": [
    "# Step 1: Fill missing \"三邊加總 (CM)\" based on 車種 rules\n",
    "cm_filled = data1_df.copy()\n",
    "\n",
    "cm_missing = cm_filled[\"三邊加總 (CM)\"].isna()\n",
    "cm_filled.loc[cm_missing & (cm_filled[\"車種\"] == \"機車\"), \"三邊加總 (CM)\"] = 75\n",
    "cm_filled.loc[cm_missing & (cm_filled[\"車種\"] == \"電動車常溫\"), \"三邊加總 (CM)\"] = 105\n",
    "cm_filled.loc[cm_missing & (cm_filled[\"車種\"] == \"1.9T\"), \"三邊加總 (CM)\"] = 121  # forces to be treated as \"large\"\n",
    "valid_df = cm_filled.dropna(subset=[\"配送單號\", \"作業人員\", \"車種\", \"三邊加總 (CM)\"])\n",
    "\n",
    "large_df = valid_df[valid_df[\"三邊加總 (CM)\"] > 120]\n",
    "\n",
    "large_unique = large_df.drop_duplicates(subset=[\"配送單號\", \"作業人員\", \"車種\"])\n",
    "\n",
    "large_delivery_count = len(large_unique)\n",
    "monthly_large_delivery = large_delivery_count / 2.5\n",
    "\n",
    "print(f\"Total unique large-item assignments: {large_delivery_count}\")\n",
    "print(f\"Estimated large-item deliveries per month: {monthly_large_delivery:.2f}\")\n",
    "\n"
   ]
  },
  {
   "cell_type": "code",
   "execution_count": 27,
   "id": "5c669a03",
   "metadata": {},
   "outputs": [
    {
     "name": "stdout",
     "output_type": "stream",
     "text": [
      "Max deliveries for 機車 (CM < 90): 43592.00\n",
      "Max deliveries for 電動機車 (CM < 120): 50349.60\n"
     ]
    }
   ],
   "source": [
    "# Use CM-filled data from earlier\n",
    "cm_filled = data1_df.copy()\n",
    "\n",
    "# Fill missing CM as before (if not already filled)\n",
    "cm_missing = cm_filled[\"三邊加總 (CM)\"].isna()\n",
    "cm_filled.loc[cm_missing & (cm_filled[\"車種\"] == \"機車\"), \"三邊加總 (CM)\"] = 75\n",
    "cm_filled.loc[cm_missing & (cm_filled[\"車種\"] == \"電動車常溫\"), \"三邊加總 (CM)\"] = 105\n",
    "cm_filled.loc[cm_missing & (cm_filled[\"車種\"] == \"1.9T\"), \"三邊加總 (CM)\"] = 121\n",
    "valid_df = cm_filled.dropna(subset=[\"配送單號\", \"作業人員\", \"車種\", \"三邊加總 (CM)\"])\n",
    "\n",
    "# Drop duplicates\n",
    "delivery_df = valid_df.drop_duplicates(subset=[\"配送單號\", \"作業人員\", \"車種\"])\n",
    "\n",
    "# Eligible for 機車 (CM < 90)\n",
    "moto_eligible = delivery_df[delivery_df[\"三邊加總 (CM)\"] <= 90]\n",
    "moto_monthly_max = len(moto_eligible) / 2.5\n",
    "\n",
    "# Eligible for 電動機車 (CM < 120)\n",
    "emoto_eligible = delivery_df[delivery_df[\"三邊加總 (CM)\"] <= 120]\n",
    "emoto_monthly_max = len(emoto_eligible) / 2.5\n",
    "\n",
    "print(f\"Max deliveries for 機車 (CM < 90): {moto_monthly_max:.2f}\")\n",
    "print(f\"Max deliveries for 電動機車 (CM < 120): {emoto_monthly_max:.2f}\")\n"
   ]
  },
  {
   "cell_type": "code",
   "execution_count": 52,
   "id": "ad0c0073",
   "metadata": {},
   "outputs": [
    {
     "name": "stdout",
     "output_type": "stream",
     "text": [
      "      車種  avg_deliveries_per_trip  trip_count  trips_per_month  \\\n",
      "0   1.9T                66.227523         545            218.0   \n",
      "1     機車                52.801489        1209            483.6   \n",
      "2  電動車常溫               120.797468         316            126.4   \n",
      "\n",
      "   deliveries_per_vehicle_per_month  \n",
      "0                           14437.6  \n",
      "1                           25534.8  \n",
      "2                           15268.8  \n"
     ]
    }
   ],
   "source": [
    "###abandoned###\n",
    "\n",
    "# Step 1: Ensure 作業時間 is datetime and extract date\n",
    "data1_df[\"作業時間\"] = pd.to_datetime(data1_df[\"作業時間\"], errors=\"coerce\")\n",
    "data1_df[\"作業日期\"] = data1_df[\"作業時間\"].dt.date\n",
    "\n",
    "# Step 2: Filter valid rows\n",
    "valid = data1_df.dropna(subset=[\"配送單號\", \"作業人員\", \"車種\", \"作業日期\"])\n",
    "\n",
    "# Step 3: Define trip: 作業人員 + 車種 + 作業日期\n",
    "trip_df = valid.drop_duplicates(subset=[\"配送單號\", \"作業人員\", \"車種\", \"作業日期\"])\n",
    "\n",
    "# Step 4: Count deliveries per trip\n",
    "trip_deliveries = trip_df.groupby([\"作業人員\", \"車種\", \"作業日期\"])[\"配送單號\"].nunique().reset_index(name=\"delivery_count\")\n",
    "\n",
    "# Step 5: Calculate average deliveries per trip by 車種\n",
    "avg_deliveries_per_trip = trip_deliveries.groupby(\"車種\")[\"delivery_count\"].mean().reset_index(name=\"avg_deliveries_per_trip\")\n",
    "\n",
    "# Step 6: Count trips per 車種\n",
    "trip_counts = trip_deliveries[\"車種\"].value_counts().reset_index()\n",
    "trip_counts.columns = [\"車種\", \"trip_count\"]\n",
    "trip_counts[\"trips_per_month\"] = trip_counts[\"trip_count\"] / 2.5\n",
    "\n",
    "# Step 7: Merge to calculate delivery capacity per vehicle per month\n",
    "vehicle_capacity = pd.merge(avg_deliveries_per_trip, trip_counts, on=\"車種\")\n",
    "vehicle_capacity[\"deliveries_per_vehicle_per_month\"] = vehicle_capacity[\"avg_deliveries_per_trip\"] * vehicle_capacity[\"trips_per_month\"]\n",
    "\n",
    "# Display results\n",
    "print(vehicle_capacity)\n"
   ]
  },
  {
   "cell_type": "code",
   "execution_count": 43,
   "id": "b6a97a65",
   "metadata": {},
   "outputs": [
    {
     "name": "stdout",
     "output_type": "stream",
     "text": [
      "Status: Optimal\n",
      "\n",
      "Optimal number of vehicles to import:\n",
      "1.9T: 1.0\n",
      "電動機車: 2.0\n",
      "機車: 0.0\n",
      "\n",
      "Deliveries assigned per month:\n",
      "1.9T: 3863.6\n",
      "電動機車: 50349.6\n",
      "機車: 0.0\n",
      "\n",
      "Total Estimated Monthly Cost: 818100.564\n"
     ]
    }
   ],
   "source": [
    "import pulp\n",
    "\n",
    "# Step 1: Define the LP minimization problem\n",
    "model = pulp.LpProblem(\"Vehicle_Import_Optimization\", pulp.LpMinimize)\n",
    "\n",
    "# Step 2: Decision Variables\n",
    "y_1_9t = pulp.LpVariable(\"y_1.9T\", lowBound=0, cat=\"Integer\")\n",
    "y_emoto = pulp.LpVariable(\"y_電動機車\", lowBound=0, cat=\"Integer\")\n",
    "y_moto = pulp.LpVariable(\"y_機車\", lowBound=0, cat=\"Integer\")\n",
    "\n",
    "x_1_9t = pulp.LpVariable(\"x_1.9T\", lowBound=0)\n",
    "x_emoto = pulp.LpVariable(\"x_電動機車\", lowBound=0)\n",
    "x_moto = pulp.LpVariable(\"x_機車\", lowBound=0)\n",
    "\n",
    "# Step 3: Constraints\n",
    "\n",
    "# 1. Total delivery demand\n",
    "model += x_1_9t + x_emoto + x_moto >= 54213.2, \"Total_Monthly_Delivery_Demand\"\n",
    "\n",
    "# 2. Large items must go to 1.9T\n",
    "model += x_1_9t >= 3863.6, \"Large_Item_Only_By_1.9T\"\n",
    "\n",
    "# 3. Size constraints\n",
    "model += x_moto <= 43592.0, \"Motorcycle_Size_Limit\"\n",
    "model += x_emoto <= 50349.6, \"EMoto_Size_Limit\"\n",
    "\n",
    "# Step 4: Objective Function (Fixed + Variable costs)\n",
    "model += (\n",
    "    y_1_9t * (9500 + 37000) + x_1_9t * (2.97 + 12.6) +\n",
    "    y_emoto * (8274.92 + 31000) + x_emoto * (0.37 + 12.2) +\n",
    "    y_moto * (1475 + 31000) + x_moto * (0.6 + 12.2)\n",
    "), \"Total_Monthly_Cost\"\n",
    "\n",
    "model += x_moto <= y_moto * 14437.6 \n",
    "model += x_emoto <= y_emoto * 25534.8 \n",
    "model += x_1_9t <= y_1_9t * 15268.8 \n",
    "\n",
    "# Step 5: Solve the model\n",
    "model.solve()\n",
    "\n",
    "# Step 6: Output the results\n",
    "print(\"Status:\", pulp.LpStatus[model.status])\n",
    "\n",
    "print(\"\\nOptimal number of vehicles to import:\")\n",
    "print(f\"1.9T: {y_1_9t.varValue}\")\n",
    "print(f\"電動機車: {y_emoto.varValue}\")\n",
    "print(f\"機車: {y_moto.varValue}\")\n",
    "\n",
    "print(\"\\nDeliveries assigned per month:\")\n",
    "print(f\"1.9T: {x_1_9t.varValue}\")\n",
    "print(f\"電動機車: {x_emoto.varValue}\")\n",
    "print(f\"機車: {x_moto.varValue}\")\n",
    "\n",
    "print(\"\\nTotal Estimated Monthly Cost:\", pulp.value(model.objective))\n"
   ]
  },
  {
   "cell_type": "code",
   "execution_count": 42,
   "id": "b5b31401",
   "metadata": {},
   "outputs": [
    {
     "name": "stdout",
     "output_type": "stream",
     "text": [
      "      車種  vehicles_needed_75th\n",
      "0   1.9T              6.646341\n",
      "1     機車             14.566265\n",
      "2  電動車常溫              3.853659\n"
     ]
    }
   ],
   "source": [
    "# Make sure 作業時間 is datetime\n",
    "data1_df[\"作業時間\"] = pd.to_datetime(data1_df[\"作業時間\"], errors=\"coerce\")\n",
    "data1_df[\"作業日期\"] = data1_df[\"作業時間\"].dt.date\n",
    "\n",
    "# Drop bad data (NaNs and invalid operators)\n",
    "valid_fleet_df = data1_df.dropna(subset=[\"車種\", \"作業人員\", \"作業日期\"])\n",
    "\n",
    "# One row per (driver, vehicle type, date) = one vehicle used that day\n",
    "daily_vehicles = valid_fleet_df.drop_duplicates(subset=[\"作業人員\", \"車種\", \"作業日期\"])\n",
    "\n",
    "# Count vehicles used per day per 車種\n",
    "daily_vehicle_use = daily_vehicles.groupby([\"作業日期\", \"車種\"]).size().reset_index(name=\"vehicles_needed\")\n",
    "\n",
    "# 75th percentile vehicle need per day\n",
    "fleet_need_75 = daily_vehicle_use.groupby(\"車種\")[\"vehicles_needed\"].mean().reset_index()\n",
    "fleet_need_75.columns = [\"車種\", \"vehicles_needed_75th\"]\n",
    "\n",
    "print(fleet_need_75)\n"
   ]
  },
  {
   "cell_type": "code",
   "execution_count": null,
   "id": "7a2f10ea",
   "metadata": {},
   "outputs": [],
   "source": []
  }
 ],
 "metadata": {
  "kernelspec": {
   "display_name": "Python 3 (ipykernel)",
   "language": "python",
   "name": "python3"
  },
  "language_info": {
   "codemirror_mode": {
    "name": "ipython",
    "version": 3
   },
   "file_extension": ".py",
   "mimetype": "text/x-python",
   "name": "python",
   "nbconvert_exporter": "python",
   "pygments_lexer": "ipython3",
   "version": "3.9.13"
  }
 },
 "nbformat": 4,
 "nbformat_minor": 5
}
