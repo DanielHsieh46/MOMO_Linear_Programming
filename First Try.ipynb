{
 "cells": [
  {
   "cell_type": "code",
   "execution_count": 20,
   "id": "26bda1be",
   "metadata": {},
   "outputs": [
    {
     "name": "stdout",
     "output_type": "stream",
     "text": [
      "           配送單號  作業內容                作業時間 作業人員        營業所  路線代碼 當配/一般     長  \\\n",
      "0  300308797073   已取貨 2024-12-14 08:39:30  人派1        桃衛1  NS16    一般  37.0   \n",
      "1  300308797073   分貨中 2024-12-14 15:32:54  林宜蒨    分轉站-NS2  NS16    一般  37.0   \n",
      "2  300308797073  未知作業 2024-12-15 07:51:47  李育緯  分轉站-NS2奕展  NS16    一般  37.0   \n",
      "3  300308797073  未知作業 2024-12-15 08:28:45  李育緯  分轉站-NS2奕展  NS16    一般  37.0   \n",
      "4  300308797073   已取貨 2024-12-15 09:00:26  張凱媛       北衛16  NS16    一般  37.0   \n",
      "\n",
      "      寬     高   箱號   箱型      車種   重量  \n",
      "0  28.0  22.0  NaN  1.0  1.9T低溫  1.0  \n",
      "1  28.0  22.0  NaN  1.0  1.9T低溫  1.0  \n",
      "2  28.0  22.0  NaN  1.0  8.5T轉運  1.0  \n",
      "3  28.0  22.0  NaN  1.0  8.5T轉運  1.0  \n",
      "4  28.0  22.0  NaN  1.0   電動車常溫  1.0  \n",
      "<class 'pandas.core.frame.DataFrame'>\n",
      "RangeIndex: 311644 entries, 0 to 311643\n",
      "Data columns (total 14 columns):\n",
      " #   Column  Non-Null Count   Dtype         \n",
      "---  ------  --------------   -----         \n",
      " 0   配送單號    311644 non-null  int64         \n",
      " 1   作業內容    311644 non-null  object        \n",
      " 2   作業時間    311644 non-null  datetime64[ns]\n",
      " 3   作業人員    311644 non-null  object        \n",
      " 4   營業所     311644 non-null  object        \n",
      " 5   路線代碼    311644 non-null  object        \n",
      " 6   當配/一般   311644 non-null  object        \n",
      " 7   長       295591 non-null  float64       \n",
      " 8   寬       295591 non-null  float64       \n",
      " 9   高       295591 non-null  float64       \n",
      " 10  箱號      242332 non-null  object        \n",
      " 11  箱型      248066 non-null  float64       \n",
      " 12  車種      311644 non-null  object        \n",
      " 13  重量      299672 non-null  float64       \n",
      "dtypes: datetime64[ns](1), float64(5), int64(1), object(7)\n",
      "memory usage: 33.3+ MB\n",
      "None\n"
     ]
    }
   ],
   "source": [
    "import pandas as pd\n",
    "\n",
    "file_path = r\"C:\\Users\\User\\OneDrive\\桌面\\My Course\\碩一下\\給台大資料\\Data1-unfiltered.xlsx\"  \n",
    "\n",
    "\n",
    "data1_df = pd.read_excel(file_path)  \n",
    "data1_df = data1_df[data1_df[\"車種\"].str.contains(\"1.9T|電動車\", na=False) | (data1_df[\"車種\"] == \"機車\")]\n",
    "data1_df[\"三邊加總 (CM)\"] = data1_df[\"長\"] + data1_df[\"寬\"] + data1_df[\"高\"]\n",
    "\n",
    "file_path2 = r\"C:\\Users\\User\\OneDrive\\桌面\\My Course\\碩一下\\給台大資料\\Data2.xlsx\" \n",
    "\n",
    "data2_df = pd.read_excel(file_path2)\n",
    "data2_df[\"購車金額\"] = data2_df[\"購車金額\"] / 5 / 12\n",
    "data2_df.rename(columns={\"購車金額\": \"月折舊費用 (Monthly Depreciation)\"}, inplace=True)\n",
    "\n",
    "print(data1_df.head())\n",
    "print(data2_df.head())\n"
   ]
  },
  {
   "cell_type": "code",
   "execution_count": 41,
   "id": "606643bc",
   "metadata": {},
   "outputs": [
    {
     "name": "stdout",
     "output_type": "stream",
     "text": [
      "Total deliveries: 138807\n",
      "機車 eligible deliveries (CM < 90): 102210\n",
      "電動機車 eligible deliveries (CM < 120): 122918\n",
      "1.9T only deliveries (CM ≥ 120): 15889\n"
     ]
    }
   ],
   "source": [
    "# Step 1: Drop duplicates by 配送單號 + 車種\n",
    "unique_deliveries = data1_df.drop_duplicates(subset=[\"配送單號\", \"車種\"])\n",
    "\n",
    "# Step 2: Apply volume constraints on deduplicated data\n",
    "mask_motorcycle = unique_deliveries[\"三邊加總 (CM)\"] < 90\n",
    "mask_e_motorcycle = unique_deliveries[\"三邊加總 (CM)\"] < 120\n",
    "\n",
    "# Step 3: Count total eligible deliveries\n",
    "total_deliveries = len(unique_deliveries)\n",
    "motorcycle_eligible = unique_deliveries[mask_motorcycle].shape[0]\n",
    "e_motorcycle_eligible = unique_deliveries[mask_e_motorcycle].shape[0]\n",
    "truck_only = total_deliveries - e_motorcycle_eligible\n",
    "\n",
    "# Step 4: Print results\n",
    "print(f\"Total deliveries: {total_deliveries}\")\n",
    "print(f\"機車 eligible deliveries (CM < 90): {motorcycle_eligible}\")\n",
    "print(f\"電動機車 eligible deliveries (CM < 120): {e_motorcycle_eligible}\")\n",
    "print(f\"1.9T only deliveries (CM ≥ 120): {truck_only}\")\n"
   ]
  },
  {
   "cell_type": "code",
   "execution_count": 42,
   "id": "5436ae30",
   "metadata": {},
   "outputs": [
    {
     "name": "stdout",
     "output_type": "stream",
     "text": [
      "      車種  total_deliveries  estimated_deliveries_per_month\n",
      "0   1.9T             46845                         18738.0\n",
      "1     機車             58460                         23384.0\n",
      "2  電動車常溫             33502                         13400.8\n"
     ]
    }
   ],
   "source": [
    "# Step 1: Drop duplicates by 配送單號 + 車種\n",
    "unique_deliveries = data1_df.drop_duplicates(subset=[\"配送單號\", \"車種\"])\n",
    "\n",
    "# Step 2: Count how many deliveries each 車種 handled\n",
    "delivery_counts = unique_deliveries[\"車種\"].value_counts().reset_index()\n",
    "delivery_counts.columns = [\"車種\", \"total_deliveries\"]\n",
    "\n",
    "# Step 3: Estimate average deliveries per month per vehicle type\n",
    "delivery_counts[\"estimated_deliveries_per_month\"] = delivery_counts[\"total_deliveries\"] / 2.5\n",
    "\n",
    "# Step 1: Replace 車種 labels to unify 1.9T types\n",
    "delivery_counts[\"車種\"] = delivery_counts[\"車種\"].replace({\"1.9T低溫\": \"1.9T\", \"1.9T常溫\": \"1.9T\"})\n",
    "\n",
    "# Step 2: Group by the unified 車種 and sum the values\n",
    "combined = delivery_counts.groupby(\"車種\", as_index=False).sum()\n",
    "\n",
    "# Step 3: Print the combined result\n",
    "print(combined)\n"
   ]
  },
  {
   "cell_type": "code",
   "execution_count": 43,
   "id": "3f458080",
   "metadata": {},
   "outputs": [],
   "source": [
    "import pulp\n",
    "\n",
    "# Step1 : Define the LP minimization problem\n",
    "model = pulp.LpProblem(\"Vehicle_Import_Optimization\", pulp.LpMinimize)\n",
    "\n",
    "# Step2 : Decision variables: number of vehicles to import (must be integers)\n",
    "y_1_9t = pulp.LpVariable(\"y_1.9T\", lowBound=0, cat=\"Integer\")\n",
    "y_emoto = pulp.LpVariable(\"y_電動機車\", lowBound=0, cat=\"Integer\")\n",
    "y_moto = pulp.LpVariable(\"y_機車\", lowBound=0, cat=\"Integer\")\n",
    "\n",
    "#Step3-1 : add constraints\n",
    "model += (\n",
    "    2.5 * (\n",
    "        18738 * y_1_9t +\n",
    "        13400.8 * y_emoto +\n",
    "        23384 * y_moto\n",
    "    ) >= 138807,\n",
    "    \"Total_Unique_Deliveries\"\n",
    ")\n",
    "\n",
    "\n",
    "#Step3-2 : add constraints\n",
    "model += 2.5 * 18738 * y_1_9t >= 15889, \"Large_Item_Only_By_1.9T\"\n",
    "\n",
    "#Step4 : objective function\n",
    "model += (\n",
    "    y_1_9t * (9500 + 37000 + 18738 * (2.97 + 12.6)) +\n",
    "    y_emoto * (8274.92 + 31000 + 13400.8 * (0.37 + 12.2)) +\n",
    "    y_moto * (1475 + 31000 + 23384 * (0.6 + 12.2))\n",
    "), \"Total_Monthly_Cost\"\n"
   ]
  },
  {
   "cell_type": "code",
   "execution_count": 44,
   "id": "02248ddb",
   "metadata": {},
   "outputs": [
    {
     "name": "stdout",
     "output_type": "stream",
     "text": [
      "Status: Optimal\n",
      "Optimal number of 1.9T trucks: 1.0\n",
      "Optimal number of electric motorcycles: 1.0\n",
      "Optimal number of motorcycles: 1.0\n",
      "Total Monthly Cost (estimated): 877763.8359999999\n"
     ]
    }
   ],
   "source": [
    "# Solve the optimization model\n",
    "model.solve()\n",
    "\n",
    "# Print the solution status\n",
    "print(\"Status:\", pulp.LpStatus[model.status])\n",
    "\n",
    "# Print the number of vehicles to import\n",
    "print(\"Optimal number of 1.9T trucks:\", y_1_9t.varValue)\n",
    "print(\"Optimal number of electric motorcycles:\", y_emoto.varValue)\n",
    "print(\"Optimal number of motorcycles:\", y_moto.varValue)\n",
    "\n",
    "# Print the minimized total monthly cost\n",
    "print(\"Total Monthly Cost (estimated):\", pulp.value(model.objective))\n"
   ]
  },
  {
   "cell_type": "code",
   "execution_count": null,
   "id": "5e279cdd",
   "metadata": {},
   "outputs": [],
   "source": []
  }
 ],
 "metadata": {
  "kernelspec": {
   "display_name": "Python 3 (ipykernel)",
   "language": "python",
   "name": "python3"
  },
  "language_info": {
   "codemirror_mode": {
    "name": "ipython",
    "version": 3
   },
   "file_extension": ".py",
   "mimetype": "text/x-python",
   "name": "python",
   "nbconvert_exporter": "python",
   "pygments_lexer": "ipython3",
   "version": "3.9.13"
  }
 },
 "nbformat": 4,
 "nbformat_minor": 5
}
